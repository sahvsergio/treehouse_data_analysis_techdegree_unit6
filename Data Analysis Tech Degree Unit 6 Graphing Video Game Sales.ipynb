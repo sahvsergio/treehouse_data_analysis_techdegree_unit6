{
 "cells": [
  {
   "cell_type": "markdown",
   "id": "51aa65b7-815a-46f8-8001-ac2958137833",
   "metadata": {},
   "source": [
    "# Data Analysis Tech Degree Unit 6: Graphing Video Game Sales\n",
    "\n",
    "You’re reviewing sales for the top 100 video games from the years 2000-2015 to gather insights. Use Python’s Pandas, Matplotlib, and Seaborn libraries to interact with the data and create graphs.\n"
   ]
  },
  {
   "cell_type": "markdown",
   "id": "0efc34d4-1937-4cef-b157-d1268a58e72f",
   "metadata": {},
   "source": [
    "## Importing libraries \n",
    "``` python\n",
    "import pandas as pd\n",
    "import matplotlib.pyplot as plt\n",
    "import seaborn as sns\n",
    "\n",
    "```"
   ]
  },
  {
   "cell_type": "code",
   "execution_count": 1,
   "id": "75585c78-304c-49b7-b238-fd07313725ef",
   "metadata": {},
   "outputs": [
    {
     "name": "stdout",
     "output_type": "stream",
     "text": [
      "Requirement already satisfied: pip in /home/developer/anaconda3/envs/graphing_video_game_sales/lib/python3.12/site-packages (24.3.1)\n",
      "Requirement already satisfied: msgpack in /home/developer/anaconda3/envs/graphing_video_game_sales/lib/python3.12/site-packages (1.1.0)\n",
      "Requirement already satisfied: matplotlib in /home/developer/anaconda3/envs/graphing_video_game_sales/lib/python3.12/site-packages (3.9.2)\n",
      "Requirement already satisfied: contourpy>=1.0.1 in /home/developer/anaconda3/envs/graphing_video_game_sales/lib/python3.12/site-packages (from matplotlib) (1.2.0)\n",
      "Requirement already satisfied: cycler>=0.10 in /home/developer/anaconda3/envs/graphing_video_game_sales/lib/python3.12/site-packages (from matplotlib) (0.11.0)\n",
      "Requirement already satisfied: fonttools>=4.22.0 in /home/developer/anaconda3/envs/graphing_video_game_sales/lib/python3.12/site-packages (from matplotlib) (4.51.0)\n",
      "Requirement already satisfied: kiwisolver>=1.3.1 in /home/developer/anaconda3/envs/graphing_video_game_sales/lib/python3.12/site-packages (from matplotlib) (1.4.4)\n",
      "Requirement already satisfied: numpy>=1.23 in /home/developer/anaconda3/envs/graphing_video_game_sales/lib/python3.12/site-packages (from matplotlib) (1.26.4)\n",
      "Requirement already satisfied: packaging>=20.0 in /home/developer/anaconda3/envs/graphing_video_game_sales/lib/python3.12/site-packages (from matplotlib) (24.1)\n",
      "Requirement already satisfied: pillow>=8 in /home/developer/anaconda3/envs/graphing_video_game_sales/lib/python3.12/site-packages (from matplotlib) (10.4.0)\n",
      "Requirement already satisfied: pyparsing>=2.3.1 in /home/developer/anaconda3/envs/graphing_video_game_sales/lib/python3.12/site-packages (from matplotlib) (3.2.0)\n",
      "Requirement already satisfied: python-dateutil>=2.7 in /home/developer/anaconda3/envs/graphing_video_game_sales/lib/python3.12/site-packages (from matplotlib) (2.9.0.post0)\n",
      "Requirement already satisfied: six>=1.5 in /home/developer/anaconda3/envs/graphing_video_game_sales/lib/python3.12/site-packages (from python-dateutil>=2.7->matplotlib) (1.16.0)\n"
     ]
    }
   ],
   "source": [
    "\n",
    "import sys\n",
    "\n",
    "!{sys.executable} -m pip install --upgrade pip\n",
    "!{sys.executable} -m pip install msgpack\n",
    "!{sys.executable} -m pip install matplotlib\n",
    "\n",
    "import pandas as pd\n",
    "import matplotlib.pyplot as plt\n",
    "import matplotlib.gridspec as gridspec\n",
    "import seaborn as sns\n",
    "\n",
    "\n",
    "%matplotlib inline"
   ]
  },
  {
   "cell_type": "code",
   "execution_count": 2,
   "id": "b296ae39-db0c-4231-80ce-7abcb290092f",
   "metadata": {},
   "outputs": [
    {
     "data": {
      "text/html": [
       "<div>\n",
       "<style scoped>\n",
       "    .dataframe tbody tr th:only-of-type {\n",
       "        vertical-align: middle;\n",
       "    }\n",
       "\n",
       "    .dataframe tbody tr th {\n",
       "        vertical-align: top;\n",
       "    }\n",
       "\n",
       "    .dataframe thead th {\n",
       "        text-align: right;\n",
       "    }\n",
       "</style>\n",
       "<table border=\"1\" class=\"dataframe\">\n",
       "  <thead>\n",
       "    <tr style=\"text-align: right;\">\n",
       "      <th></th>\n",
       "      <th>Rank</th>\n",
       "      <th>Name</th>\n",
       "      <th>Platform</th>\n",
       "      <th>Year</th>\n",
       "      <th>Genre</th>\n",
       "      <th>Publisher</th>\n",
       "      <th>NA_Sales</th>\n",
       "      <th>EU_Sales</th>\n",
       "      <th>JP_Sales</th>\n",
       "      <th>Other_Sales</th>\n",
       "      <th>Global_Sales</th>\n",
       "    </tr>\n",
       "  </thead>\n",
       "  <tbody>\n",
       "    <tr>\n",
       "      <th>0</th>\n",
       "      <td>1</td>\n",
       "      <td>Wii Sports</td>\n",
       "      <td>Nintendo</td>\n",
       "      <td>2006</td>\n",
       "      <td>Sports</td>\n",
       "      <td>Nintendo</td>\n",
       "      <td>41.49</td>\n",
       "      <td>29.02</td>\n",
       "      <td>3.77</td>\n",
       "      <td>8.46</td>\n",
       "      <td>82.74</td>\n",
       "    </tr>\n",
       "    <tr>\n",
       "      <th>1</th>\n",
       "      <td>2</td>\n",
       "      <td>Mario Kart Wii</td>\n",
       "      <td>Nintendo</td>\n",
       "      <td>2008</td>\n",
       "      <td>Racing</td>\n",
       "      <td>Nintendo</td>\n",
       "      <td>15.85</td>\n",
       "      <td>12.88</td>\n",
       "      <td>3.79</td>\n",
       "      <td>3.31</td>\n",
       "      <td>35.82</td>\n",
       "    </tr>\n",
       "    <tr>\n",
       "      <th>2</th>\n",
       "      <td>3</td>\n",
       "      <td>Wii Sports Resort</td>\n",
       "      <td>Nintendo</td>\n",
       "      <td>2009</td>\n",
       "      <td>Sports</td>\n",
       "      <td>Nintendo</td>\n",
       "      <td>15.75</td>\n",
       "      <td>11.01</td>\n",
       "      <td>3.28</td>\n",
       "      <td>2.96</td>\n",
       "      <td>33.00</td>\n",
       "    </tr>\n",
       "    <tr>\n",
       "      <th>3</th>\n",
       "      <td>4</td>\n",
       "      <td>New Super Mario Bros.</td>\n",
       "      <td>Nintendo</td>\n",
       "      <td>2006</td>\n",
       "      <td>Platform</td>\n",
       "      <td>Nintendo</td>\n",
       "      <td>11.38</td>\n",
       "      <td>9.23</td>\n",
       "      <td>6.50</td>\n",
       "      <td>2.90</td>\n",
       "      <td>30.01</td>\n",
       "    </tr>\n",
       "    <tr>\n",
       "      <th>4</th>\n",
       "      <td>5</td>\n",
       "      <td>Wii Play</td>\n",
       "      <td>Nintendo</td>\n",
       "      <td>2006</td>\n",
       "      <td>Misc</td>\n",
       "      <td>Nintendo</td>\n",
       "      <td>14.03</td>\n",
       "      <td>9.20</td>\n",
       "      <td>2.93</td>\n",
       "      <td>2.85</td>\n",
       "      <td>29.02</td>\n",
       "    </tr>\n",
       "    <tr>\n",
       "      <th>...</th>\n",
       "      <td>...</td>\n",
       "      <td>...</td>\n",
       "      <td>...</td>\n",
       "      <td>...</td>\n",
       "      <td>...</td>\n",
       "      <td>...</td>\n",
       "      <td>...</td>\n",
       "      <td>...</td>\n",
       "      <td>...</td>\n",
       "      <td>...</td>\n",
       "      <td>...</td>\n",
       "    </tr>\n",
       "    <tr>\n",
       "      <th>95</th>\n",
       "      <td>96</td>\n",
       "      <td>Big Brain Academy</td>\n",
       "      <td>Nintendo</td>\n",
       "      <td>2005</td>\n",
       "      <td>Misc</td>\n",
       "      <td>Nintendo</td>\n",
       "      <td>1.67</td>\n",
       "      <td>2.78</td>\n",
       "      <td>1.60</td>\n",
       "      <td>0.62</td>\n",
       "      <td>6.67</td>\n",
       "    </tr>\n",
       "    <tr>\n",
       "      <th>96</th>\n",
       "      <td>97</td>\n",
       "      <td>Red Dead Redemption</td>\n",
       "      <td>PlayStation</td>\n",
       "      <td>2010</td>\n",
       "      <td>Action</td>\n",
       "      <td>Take-Two Interactive</td>\n",
       "      <td>2.79</td>\n",
       "      <td>2.61</td>\n",
       "      <td>0.17</td>\n",
       "      <td>1.03</td>\n",
       "      <td>6.60</td>\n",
       "    </tr>\n",
       "    <tr>\n",
       "      <th>97</th>\n",
       "      <td>98</td>\n",
       "      <td>FIFA 15</td>\n",
       "      <td>PlayStation</td>\n",
       "      <td>2014</td>\n",
       "      <td>Sports</td>\n",
       "      <td>Electronic Arts</td>\n",
       "      <td>0.79</td>\n",
       "      <td>4.29</td>\n",
       "      <td>0.05</td>\n",
       "      <td>1.47</td>\n",
       "      <td>6.59</td>\n",
       "    </tr>\n",
       "    <tr>\n",
       "      <th>98</th>\n",
       "      <td>99</td>\n",
       "      <td>Donkey Kong Country Returns</td>\n",
       "      <td>Nintendo</td>\n",
       "      <td>2010</td>\n",
       "      <td>Platform</td>\n",
       "      <td>Nintendo</td>\n",
       "      <td>3.25</td>\n",
       "      <td>1.84</td>\n",
       "      <td>1.03</td>\n",
       "      <td>0.47</td>\n",
       "      <td>6.59</td>\n",
       "    </tr>\n",
       "    <tr>\n",
       "      <th>99</th>\n",
       "      <td>100</td>\n",
       "      <td>The Elder Scrolls V: Skyrim</td>\n",
       "      <td>PlayStation</td>\n",
       "      <td>2011</td>\n",
       "      <td>Role-Playing</td>\n",
       "      <td>Bethesda Softworks</td>\n",
       "      <td>2.55</td>\n",
       "      <td>2.71</td>\n",
       "      <td>0.25</td>\n",
       "      <td>1.05</td>\n",
       "      <td>6.56</td>\n",
       "    </tr>\n",
       "  </tbody>\n",
       "</table>\n",
       "<p>100 rows × 11 columns</p>\n",
       "</div>"
      ],
      "text/plain": [
       "    Rank                         Name     Platform  Year         Genre  \\\n",
       "0      1                   Wii Sports     Nintendo  2006        Sports   \n",
       "1      2               Mario Kart Wii     Nintendo  2008        Racing   \n",
       "2      3            Wii Sports Resort     Nintendo  2009        Sports   \n",
       "3      4        New Super Mario Bros.     Nintendo  2006      Platform   \n",
       "4      5                     Wii Play     Nintendo  2006          Misc   \n",
       "..   ...                          ...          ...   ...           ...   \n",
       "95    96            Big Brain Academy     Nintendo  2005          Misc   \n",
       "96    97          Red Dead Redemption  PlayStation  2010        Action   \n",
       "97    98                      FIFA 15  PlayStation  2014        Sports   \n",
       "98    99  Donkey Kong Country Returns     Nintendo  2010      Platform   \n",
       "99   100  The Elder Scrolls V: Skyrim  PlayStation  2011  Role-Playing   \n",
       "\n",
       "               Publisher  NA_Sales  EU_Sales  JP_Sales  Other_Sales  \\\n",
       "0               Nintendo     41.49     29.02      3.77         8.46   \n",
       "1               Nintendo     15.85     12.88      3.79         3.31   \n",
       "2               Nintendo     15.75     11.01      3.28         2.96   \n",
       "3               Nintendo     11.38      9.23      6.50         2.90   \n",
       "4               Nintendo     14.03      9.20      2.93         2.85   \n",
       "..                   ...       ...       ...       ...          ...   \n",
       "95              Nintendo      1.67      2.78      1.60         0.62   \n",
       "96  Take-Two Interactive      2.79      2.61      0.17         1.03   \n",
       "97       Electronic Arts      0.79      4.29      0.05         1.47   \n",
       "98              Nintendo      3.25      1.84      1.03         0.47   \n",
       "99    Bethesda Softworks      2.55      2.71      0.25         1.05   \n",
       "\n",
       "    Global_Sales  \n",
       "0          82.74  \n",
       "1          35.82  \n",
       "2          33.00  \n",
       "3          30.01  \n",
       "4          29.02  \n",
       "..           ...  \n",
       "95          6.67  \n",
       "96          6.60  \n",
       "97          6.59  \n",
       "98          6.59  \n",
       "99          6.56  \n",
       "\n",
       "[100 rows x 11 columns]"
      ]
     },
     "execution_count": 2,
     "metadata": {},
     "output_type": "execute_result"
    }
   ],
   "source": [
    "video_games_info=pd.read_csv('top100videogamesales.csv')\n",
    "video_games_info\n",
    "\n",
    "\n",
    "\n"
   ]
  },
  {
   "cell_type": "markdown",
   "id": "f2939efd-0361-489a-b106-95fc7c8f0c18",
   "metadata": {},
   "source": [
    "## Meets Expectations"
   ]
  },
  {
   "cell_type": "markdown",
   "id": "10bc07a8-ddf2-4c69-9dc4-93a322909d23",
   "metadata": {},
   "source": [
    "###  1. Question 1: \n",
    "    A line chart shows the total global sales for each year.\n",
    "    The result of the chart is explained in markdown.\n"
   ]
  },
  {
   "cell_type": "code",
   "execution_count": 3,
   "id": "7cedf50d-b702-4271-bae1-1c5e905b7026",
   "metadata": {},
   "outputs": [
    {
     "name": "stdout",
     "output_type": "stream",
     "text": [
      "['Solarize_Light2', '_classic_test_patch', '_mpl-gallery', '_mpl-gallery-nogrid', 'bmh', 'classic', 'dark_background', 'fast', 'fivethirtyeight', 'ggplot', 'grayscale', 'seaborn-v0_8', 'seaborn-v0_8-bright', 'seaborn-v0_8-colorblind', 'seaborn-v0_8-dark', 'seaborn-v0_8-dark-palette', 'seaborn-v0_8-darkgrid', 'seaborn-v0_8-deep', 'seaborn-v0_8-muted', 'seaborn-v0_8-notebook', 'seaborn-v0_8-paper', 'seaborn-v0_8-pastel', 'seaborn-v0_8-poster', 'seaborn-v0_8-talk', 'seaborn-v0_8-ticks', 'seaborn-v0_8-white', 'seaborn-v0_8-whitegrid', 'tableau-colorblind10']\n"
     ]
    },
    {
     "data": {
      "image/png": "[encoded data removed]",
      "text/plain": [
       "<Figure size 640x480 with 1 Axes>"
      ]
     },
     "metadata": {},
     "output_type": "display_data"
    }
   ],
   "source": [
    "# let's select 2  columns, year and total global sales\n",
    "yearly_sales=video_games_info[['Year','Global_Sales']]\n",
    "grouped_sales=yearly_sales.groupby('Year')\n",
    "\n",
    "sum_of_sales=grouped_sales.sum()\n",
    "\n",
    "\n",
    "list_of_years=[]\n",
    "list_of_sales=[]\n",
    "\n",
    "   \n",
    "for year, sale in sum_of_sales.iterrows():\n",
    "   \n",
    "    list_of_years.append(year)\n",
    "    list_of_sales.append(sale)\n",
    "\n",
    "\n",
    "\n",
    "  \n",
    "plt.title(' Global Sales by Year(2001-2015)')\n",
    "print(plt.style.available)\n",
    "plt.style.use(['seaborn-v0_8-ticks'])\n",
    "\n",
    "plt.xlabel('Years')\n",
    "plt.ylabel('Amount of sales (Millions)')\n",
    "\n",
    "\n",
    "\n",
    "plt.xticks(fontsize=8)\n",
    "plt.yticks(fontsize=8)\n",
    "#plt.xticks([2001,2002,2003,2004,2005,2006, 2007,2008,2009,2010, 2011,2012,2013,2014,2015], rotation=45)\n",
    "#plt.yticks([14.15,38.83,43.2,44.66,51.91,68.77,79.91,87.92,88.03,92.42,104.97,110.36,130.86,141.83,167.44])\n",
    "\n",
    "\n",
    "plt.plot(list_of_years, list_of_sales, marker='o',color='olive')\n",
    "\n",
    "\n",
    "plt.show()"
   ]
  },
  {
   "cell_type": "markdown",
   "id": "42e1ab95-cbf7-4a9a-9e9d-6f7a4723145a",
   "metadata": {},
   "source": [
    "### Explanation\n",
    "\n",
    "*The years with the most video games sales are \n",
    "*\n",
    "*\n"
   ]
  },
  {
   "cell_type": "markdown",
   "id": "6b9c0ac1-9343-4aac-93dd-bb264fb63b1b",
   "metadata": {},
   "source": [
    "### 2.  Question 2\n",
    "    A histogram shows the global sales distribution for games with Action as the genre.\n",
    "    The result of the chart is explained in markdown.\n"
   ]
  },
  {
   "cell_type": "code",
   "execution_count": 4,
   "id": "ca2162c4-9fd3-44bb-8c6f-eb46bfd34444",
   "metadata": {},
   "outputs": [
    {
     "name": "stdout",
     "output_type": "stream",
     "text": [
      "<class 'pandas.core.series.Series'>\n"
     ]
    },
    {
     "data": {
      "image/png": "[encoded data removed]",
      "text/plain": [
       "<Figure size 640x480 with 1 Axes>"
      ]
     },
     "metadata": {},
     "output_type": "display_data"
    }
   ],
   "source": [
    "\n",
    "video_games_info.head()\n",
    "action_games=video_games_info.loc[video_games_info.Genre=='Action']\n",
    "grouped_by_sales=action_games['Global_Sales']\n",
    "\n",
    "print(type(grouped_by_sales))\n",
    "sorted_sales=grouped_by_sales.sort_values(ascending=True)\n",
    "plt.title('sales distribution of Action Games')\n",
    "plt.hist(sorted_sales,bins=10,edgecolor='black')\n",
    "plt.xlabel('Sales in Million')\n",
    "plt.ylabel('Frequency')\n",
    "plt.show()"
   ]
  },
  {
   "cell_type": "markdown",
   "id": "e24036bc-0011-475a-ab1e-bc2de0a115c4",
   "metadata": {},
   "source": [
    "### Explanation"
   ]
  },
  {
   "cell_type": "markdown",
   "id": "79e5bcf2-967b-487b-b96b-55fce60a8822",
   "metadata": {},
   "source": [
    "### 3. Question 3:\n",
    "\n",
    "* A pie chart shows the percentage of sales each genre had in the North American market. (Group smaller “slices” together into an “other” category to create an easier to read chart)\n",
    "* A pie chart shows the percentage of sales each genre had in the European market. (Group smaller “slices” together into an “other” category to create an easier to read chart)\n",
    "    Detailed what is included in the other category.\n",
    "    The differences and similarities between the North American and European charts are explained in markdown\n"
   ]
  },
  {
   "cell_type": "code",
   "execution_count": 39,
   "id": "b6be920c-5ba3-42cc-8ba2-0f77c8f8b8dc",
   "metadata": {},
   "outputs": [
    {
     "name": "stdout",
     "output_type": "stream",
     "text": [
      "[NA_Sales    77.81\n",
      "Name: Action, dtype: float64, NA_Sales    14.4\n",
      "Name: Fighting, dtype: float64, NA_Sales    70.6\n",
      "Name: Misc, dtype: float64, NA_Sales    52.67\n",
      "Name: Platform, dtype: float64, NA_Sales    3.44\n",
      "Name: Puzzle, dtype: float64, NA_Sales    56.45\n",
      "Name: Racing, dtype: float64, NA_Sales    50.48\n",
      "Name: Role-Playing, dtype: float64, NA_Sales    140.44\n",
      "Name: Shooter, dtype: float64, NA_Sales    14.61\n",
      "Name: Simulation, dtype: float64, NA_Sales    84.87\n",
      "Name: Sports, dtype: float64]\n"
     ]
    }
   ],
   "source": [
    "North_American_Sales=video_games_info[['Genre', 'NA_Sales']]\n",
    "NA_Sales_group=North_American_Sales.groupby('Genre')\n",
    "NA_Sales_sum=NA_Sales_group.sum()\n",
    "labels=[]\n",
    "na_sales=[]\n",
    "\n",
    "NA_Sales_group\n",
    "for genre, sale in NA_Sales_sum.iterrows():\n",
    "    labels.append(genre)\n",
    "    na_sales.append(sale)\n",
    "#print(labels)\n",
    "print(na_sales)\n",
    "\n"
   ]
  },
  {
   "cell_type": "code",
   "execution_count": null,
   "id": "556025ce-bbc8-4b04-afeb-ca565943536e",
   "metadata": {},
   "outputs": [],
   "source": [
    "565.77"
   ]
  },
  {
   "cell_type": "code",
   "execution_count": null,
   "id": "82d4ebb9-adc1-481d-8ced-edc50bbb8b40",
   "metadata": {},
   "outputs": [],
   "source": []
  }
 ],
 "metadata": {
  "kernelspec": {
   "display_name": "Python 3 (ipykernel)",
   "language": "python",
   "name": "python3"
  },
  "language_info": {
   "codemirror_mode": {
    "name": "ipython",
    "version": 3
   },
   "file_extension": ".py",
   "mimetype": "text/x-python",
   "name": "python",
   "nbconvert_exporter": "python",
   "pygments_lexer": "ipython3",
   "version": "3.12.7"
  }
 },
 "nbformat": 4,
 "nbformat_minor": 5
}
